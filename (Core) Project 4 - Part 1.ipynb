{
 "cells": [
  {
   "cell_type": "markdown",
   "id": "bf1c2533",
   "metadata": {},
   "source": [
    "# INSTRUCTIONS\n",
    "\n",
    "For this assignment, you will be starting an additional portfolio project that you will continue to build on over the remaining weeks of this stack.\n",
    "\n",
    "    For Part 1, you will be downloading and preparing a crime dataset for time series analysis.\n",
    "    You will then answer provided stakeholder questions and support your answers with visualizations."
   ]
  },
  {
   "cell_type": "markdown",
   "id": "d85fb4c9",
   "metadata": {},
   "source": [
    "# Chicago Crime Data\n",
    "\n",
    "    Source: Chicago Data Portal: Crimes 2001 to Present\n",
    "        Data Description:\n",
    "            All Crimes that were reported in the city of Chicago and their details\n",
    "            View Preview\n",
    "        Includes:\n",
    "            type of crime, exact date/time, lat/long, District/ward, was there an arrest, etc.\n",
    "        Note: the .csv is very large and needs to be processed into smaller files to fit inside a GitHub repository. We have provided a helper notebook below to process your downloaded file into a repo-friendly format. \n",
    "    Data Processing Helper Notebook:\n",
    "        Use the helper notebook in this repository to process your manually-downloaded csv into several .csv.gz files: https://github.com/coding-dojo-data-science/preparing-chicago-crime-data\n",
    "        You can either Fork your own copy of the repository and rename it to be your \"Project 4\" repository, or you can download the notebook and save it in your own repository.\n",
    "\n",
    "    Supplemental Data: Holiday Data\n",
    "        To answer some of the possible questions, you may need to perform some feature engineering, like adding holiday information from an API.\n",
    "        We have provided an extract of holidays, but you may wish to extract additional holiday information for dates not included in this file.\n",
    "            Share URL\n",
    "            Raw CSV URL (Pandas): https://docs.google.com/spreadsheets/d/e/2PACX-1vTMR4vi1nFtbYO_WLqecU6WoRAQ0F-_QCMcuWUoZhuTygAP2U668cddCWBeAV2eop9fFdyXX856AB2j/pub?output=csv\n",
    "\n",
    "    Notes/Considerations:\n",
    "        You may need to keep 2 forms of the data:\n",
    "            The original individual crime data with a datetime index. (Each row is 1 crime)\n",
    "            A resampled/converted crime counts version (Each row is 1 day)"
   ]
  },
  {
   "cell_type": "markdown",
   "id": "98fa4b43",
   "metadata": {},
   "source": [
    "# Task\n",
    "\n",
    "Your task is to answer a series of questions about trends in crimes in Chicago for a reporter for the local newspaper.\n",
    "\n",
    "    Stakeholder Questions to Answer (pick at least 3 topics) Select 3 or more of the following topics to analyze:\n",
    "    \n",
    "   - 1) Comparing Police Districts:\n",
    "            Which district has the most crimes? Which has the least?\n",
    "    - 2) Crimes Across the Years:\n",
    "            Is the total number of crimes increasing or decreasing across the years?\n",
    "            Are there any individual crimes that are doing the opposite (e.g decreasing when overall crime is increasing or vice-versa)?\n",
    "     - 3) Comparing AM vs. PM Rush Hour:\n",
    "            Are crimes more common during AM rush hour or PM rush hour?\n",
    "                You can consider any crime that occurred between 7 AM - 10 AM as AM rush hour\n",
    "                You can consider any crime that occurred between 4 -7 PM as PM rush hour.\n",
    "            What are the top 5 most common crimes during AM rush hour? What are the top 5 most common crimes during PM rush hour?\n",
    "            Are Motor Vehicle Thefts more common during AM rush hour or PM Rush Hour?\n",
    "    - 4) Comparing Months:\n",
    "            What months have the most crime? What months have the least?\n",
    "            Are there any individual crimes that do not follow this pattern? If so, which crimes?\n",
    "     - 5) Comparing Holidays:\n",
    "            Are there any holidays that show an increase in the # of crimes?\n",
    "            Are there any holidays that show a decrease in the # of crimes?"
   ]
  },
  {
   "cell_type": "markdown",
   "id": "283cbe3a",
   "metadata": {},
   "source": [
    "# Final Submission\n",
    "\n",
    "Submit the link to your GitHub Repository (make sure it is public!)"
   ]
  },
  {
   "cell_type": "markdown",
   "id": "e6153e00",
   "metadata": {},
   "source": [
    "# Chicago Crime Data Imports"
   ]
  },
  {
   "cell_type": "code",
   "execution_count": 2,
   "id": "eba35f2a",
   "metadata": {},
   "outputs": [],
   "source": [
    "import glob\n",
    "import pandas as pd\n",
    "folder = \"Data/Chicago/\"\n",
    "crime_files = sorted(glob.glob(folder+\"*.csv\"))\n",
    "df = pd.concat([pd.read_csv(f) for f in crime_files])"
   ]
  },
  {
   "cell_type": "code",
   "execution_count": 4,
   "id": "692b12fe",
   "metadata": {},
   "outputs": [
    {
     "name": "stdout",
     "output_type": "stream",
     "text": [
      "<class 'pandas.core.frame.DataFrame'>\n",
      "Int64Index: 7767374 entries, 0 to 56465\n",
      "Data columns (total 12 columns):\n",
      " #   Column                Dtype  \n",
      "---  ------                -----  \n",
      " 0   ID                    int64  \n",
      " 1   Date                  object \n",
      " 2   Primary Type          object \n",
      " 3   Description           object \n",
      " 4   Location Description  object \n",
      " 5   Arrest                bool   \n",
      " 6   Domestic              bool   \n",
      " 7   Beat                  int64  \n",
      " 8   District              float64\n",
      " 9   Ward                  float64\n",
      " 10  Latitude              float64\n",
      " 11  Longitude             float64\n",
      "dtypes: bool(2), float64(4), int64(2), object(4)\n",
      "memory usage: 666.7+ MB\n"
     ]
    }
   ],
   "source": [
    "df.info()"
   ]
  },
  {
   "cell_type": "code",
   "execution_count": null,
   "id": "7254ead9",
   "metadata": {},
   "outputs": [],
   "source": []
  }
 ],
 "metadata": {
  "kernelspec": {
   "display_name": "Python (dojo-env)",
   "language": "python",
   "name": "dojo-env"
  },
  "language_info": {
   "codemirror_mode": {
    "name": "ipython",
    "version": 3
   },
   "file_extension": ".py",
   "mimetype": "text/x-python",
   "name": "python",
   "nbconvert_exporter": "python",
   "pygments_lexer": "ipython3",
   "version": "3.9.15"
  },
  "toc": {
   "base_numbering": 1,
   "nav_menu": {},
   "number_sections": true,
   "sideBar": true,
   "skip_h1_title": false,
   "title_cell": "Table of Contents",
   "title_sidebar": "Contents",
   "toc_cell": false,
   "toc_position": {},
   "toc_section_display": true,
   "toc_window_display": false
  },
  "varInspector": {
   "cols": {
    "lenName": 16,
    "lenType": 16,
    "lenVar": 40
   },
   "kernels_config": {
    "python": {
     "delete_cmd_postfix": "",
     "delete_cmd_prefix": "del ",
     "library": "var_list.py",
     "varRefreshCmd": "print(var_dic_list())"
    },
    "r": {
     "delete_cmd_postfix": ") ",
     "delete_cmd_prefix": "rm(",
     "library": "var_list.r",
     "varRefreshCmd": "cat(var_dic_list()) "
    }
   },
   "types_to_exclude": [
    "module",
    "function",
    "builtin_function_or_method",
    "instance",
    "_Feature"
   ],
   "window_display": false
  }
 },
 "nbformat": 4,
 "nbformat_minor": 5
}
